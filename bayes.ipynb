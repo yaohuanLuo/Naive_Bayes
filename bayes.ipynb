{
 "cells": [
  {
   "cell_type": "code",
   "execution_count": 2,
   "metadata": {},
   "outputs": [],
   "source": [
    "from numpy import *\n",
    "import re\n",
    "import feedparser"
   ]
  },
  {
   "cell_type": "code",
   "execution_count": 3,
   "metadata": {},
   "outputs": [],
   "source": [
    "# 词表到向量的转换函数\n",
    "def loadDataSet():    # 创建一些实验样本\n",
    "    posttingList = [['my', 'dog', 'has', 'flea', 'problems', 'help', 'please'], \n",
    "                    ['maybe', 'not', 'take', 'him', 'to', 'dog', 'park', 'stupid'],\n",
    "                    ['my', 'dalmation', 'is', 'so', 'cute', 'I', 'love', 'him'], \n",
    "                    ['stop', 'posting', 'stupid', 'worthless', 'garbage'], \n",
    "                    ['mr', 'licks', 'ate', 'my', 'steak', 'how', 'to', 'stop', 'him'], \n",
    "                    ['quit', 'buying', 'worthless', 'dog', 'food', 'stupid']]\n",
    "    classVec = [0, 1, 0, 1, 0, 1]    # 1代表侮辱性文字， 0代表正常言论\n",
    "    return posttingList, classVec\n",
    "\n",
    "def createVocabList(dataSet):    # 创建一个包含在所有文档中出现的不重复词的列表，为此使用Python的set数据类型\n",
    "    vocabSet = set([])\n",
    "    for document in dataSet:\n",
    "        vocabSet = vocabSet | set(document)    # 去重\n",
    "    return list(vocabSet)\n",
    "\n",
    "def setOfWords2Vec(vocabList, inputSet):    # 该函数的输入参数为词汇表及某个文档，输出的是文档向量\n",
    "    returnVec = [0] * len(vocabList)    # 创建一个其中所含元素都为0的向量\n",
    "    for word in inputSet:     # 遍历每个词条\n",
    "        if word in vocabList:   # 如果词条存在于词汇表中，则置1\n",
    "            returnVec[vocabList.index(word)] = 1\n",
    "        else:\n",
    "            print('the word: ' + word + 'is not in my Vocabulary!')\n",
    "    return returnVec"
   ]
  },
  {
   "cell_type": "code",
   "execution_count": 4,
   "metadata": {},
   "outputs": [
    {
     "data": {
      "text/plain": [
       "['is',\n",
       " 'love',\n",
       " 'not',\n",
       " 'mr',\n",
       " 'quit',\n",
       " 'stop',\n",
       " 'take',\n",
       " 'him',\n",
       " 'to',\n",
       " 'flea',\n",
       " 'problems',\n",
       " 'maybe',\n",
       " 'so',\n",
       " 'steak',\n",
       " 'garbage',\n",
       " 'worthless',\n",
       " 'licks',\n",
       " 'how',\n",
       " 'stupid',\n",
       " 'food',\n",
       " 'my',\n",
       " 'park',\n",
       " 'has',\n",
       " 'cute',\n",
       " 'please',\n",
       " 'posting',\n",
       " 'dog',\n",
       " 'buying',\n",
       " 'help',\n",
       " 'ate',\n",
       " 'I',\n",
       " 'dalmation']"
      ]
     },
     "execution_count": 4,
     "metadata": {},
     "output_type": "execute_result"
    }
   ],
   "source": [
    "listOPosts, listClasses = loadDataSet()\n",
    "myVovatbList = createVocabList(listOPosts)\n",
    "myVovatbList"
   ]
  },
  {
   "cell_type": "code",
   "execution_count": 5,
   "metadata": {},
   "outputs": [
    {
     "data": {
      "text/plain": [
       "[0,\n",
       " 0,\n",
       " 0,\n",
       " 0,\n",
       " 0,\n",
       " 1,\n",
       " 0,\n",
       " 0,\n",
       " 0,\n",
       " 0,\n",
       " 0,\n",
       " 0,\n",
       " 0,\n",
       " 0,\n",
       " 1,\n",
       " 1,\n",
       " 0,\n",
       " 0,\n",
       " 1,\n",
       " 0,\n",
       " 0,\n",
       " 0,\n",
       " 0,\n",
       " 0,\n",
       " 0,\n",
       " 1,\n",
       " 0,\n",
       " 0,\n",
       " 0,\n",
       " 0,\n",
       " 0,\n",
       " 0]"
      ]
     },
     "execution_count": 5,
     "metadata": {},
     "output_type": "execute_result"
    }
   ],
   "source": [
    "setOfWords2Vec(myVovatbList, listOPosts[3])"
   ]
  },
  {
   "cell_type": "code",
   "execution_count": 14,
   "metadata": {},
   "outputs": [],
   "source": [
    "# 朴素贝叶斯分类器训练函数\n",
    "def trainNB0(trainMatrix, trainCategory):\n",
    "    numTrainDocs = len(trainMatrix)    # 计算训练的文档数目\n",
    "    numWords = len(trainMatrix[0])     # 计算每篇文档的词条数\n",
    "    pAbusive = sum(trainCategory) / float(numTrainDocs)    # 文档属于侮辱类的概率\n",
    "    p0Num = ones(numWords)\n",
    "    p1Num = ones(numWords)    # 创建NumPy.ones数组，词条出现数初始化为1，拉普拉斯平滑\n",
    "    p0Denom = 2.0\n",
    "    p1Denom = 2.0    # 分母初始化为2，拉普拉斯平滑\n",
    "    for i in range(numTrainDocs):\n",
    "        if trainCategory[i] == 1:    # 统计属于侮辱类的条件概率所需的数据\n",
    "            p1Num += trainMatrix[i]\n",
    "            p1Denom += sum(trainMatrix[i])\n",
    "        else:    # 统计属于非侮辱类的条件概率所需的数据\n",
    "            p0Num += trainMatrix[i]\n",
    "            p0Denom += sum(trainMatrix[i])\n",
    "    p1Vect = log(p1Num / p1Denom)    # 取对数，防止下溢出\n",
    "    p0Vect = log(p0Num / p0Denom)\n",
    "    return p0Vect, p1Vect, pAbusive  # 返回属于侮辱类的条件概率数组，属于非侮辱类的条件概率数组，文档属于侮辱类的概率"
   ]
  },
  {
   "cell_type": "code",
   "execution_count": 15,
   "metadata": {},
   "outputs": [
    {
     "data": {
      "text/plain": [
       "array([-2.56494936, -2.56494936, -3.25809654, -2.56494936, -3.25809654,\n",
       "       -2.56494936, -3.25809654, -2.15948425, -2.56494936, -2.56494936,\n",
       "       -2.56494936, -3.25809654, -2.56494936, -2.56494936, -3.25809654,\n",
       "       -3.25809654, -2.56494936, -2.56494936, -3.25809654, -3.25809654,\n",
       "       -1.87180218, -3.25809654, -2.56494936, -2.56494936, -2.56494936,\n",
       "       -3.25809654, -2.56494936, -3.25809654, -2.56494936, -2.56494936,\n",
       "       -2.56494936, -2.56494936])"
      ]
     },
     "execution_count": 15,
     "metadata": {},
     "output_type": "execute_result"
    }
   ],
   "source": [
    "listOPosts, listClasses = loadDataSet()\n",
    "myVocabList = createVocabList(listOPosts)\n",
    "trainMat = []\n",
    "for postinDoc in listOPosts:\n",
    "    trainMat.append(setOfWords2Vec(myVocabList, postinDoc))\n",
    "p0V, p1V, pAb = trainNB0(trainMat, listClasses)\n",
    "p0V"
   ]
  },
  {
   "cell_type": "code",
   "execution_count": 18,
   "metadata": {},
   "outputs": [],
   "source": [
    "# 朴素贝叶斯分类函数\n",
    "def classifyNb(vec2Classify, p0Vec, p1Vec, pClass1):   # 对词进行分类\n",
    "    p1 = sum(vec2Classify * p1Vec) + log(pClass1)\n",
    "    p0 = sum(vec2Classify * p0Vec) + log(1.0 - pClass1)\n",
    "    if p1 > p0:\n",
    "        return 1\n",
    "    else:\n",
    "        return 0\n",
    "\n",
    "def testingNB():   # 测试分类效果\n",
    "    listOPosts, listClasses = loadDataSet()\n",
    "    myVocabList = createVocabList(listOPosts)   # 创造一个合并的去重集合\n",
    "    trainMat = []\n",
    "    for postinDoc in listOPosts:   # 6个向量\n",
    "        trainMat.append(setOfWords2Vec(myVocabList, postinDoc))    # 将一个一个样本，利用词汇表转换为词向量\n",
    "    p0V, p1V, pAb = trainNB0(array(trainMat), array(listClasses))  # 训练-计算条件概率  0-非侮辱类条件概率集  1-侮辱类条件概率集\n",
    "    testEntry = ['love', 'my', 'dalmation']\n",
    "    thisDoc = array(setOfWords2Vec(myVocabList, testEntry))    # 测试样本向量化\n",
    "    print(str(testEntry) + ' classified as: ' + str(classifyNb(thisDoc, p0V, p1V, pAb)))\n",
    "    testEntry = ['stupid', 'garbage']\n",
    "    thisDoc = array(setOfWords2Vec(myVocabList, testEntry))\n",
    "    print(str(testEntry) + ' classified as: ' + str(classifyNb(thisDoc, p0V, p1V, pAb)))"
   ]
  },
  {
   "cell_type": "code",
   "execution_count": 19,
   "metadata": {},
   "outputs": [
    {
     "name": "stdout",
     "output_type": "stream",
     "text": [
      "['love', 'my', 'dalmation'] classified as: 0\n",
      "['stupid', 'garbage'] classified as: 1\n"
     ]
    }
   ],
   "source": [
    "testingNB()"
   ]
  },
  {
   "cell_type": "code",
   "execution_count": 20,
   "metadata": {},
   "outputs": [],
   "source": [
    "# 朴素贝叶斯词袋模型\n",
    "def bagOfWord2VecMN(vocabList, inputSet):  \n",
    "    returnVec = [0] * len(vocabList)\n",
    "    for word in inputSet:\n",
    "        if word in vocabList:\n",
    "            returnVec[vocabList.index(word)] += 1\n",
    "    return returnVec"
   ]
  },
  {
   "cell_type": "code",
   "execution_count": 21,
   "metadata": {},
   "outputs": [],
   "source": [
    "mySent = 'this book is the best book on Python or M.L. I have ever laid eyes upon.'\n",
    "# mySent.split(' ')"
   ]
  },
  {
   "cell_type": "code",
   "execution_count": 22,
   "metadata": {},
   "outputs": [
    {
     "name": "stderr",
     "output_type": "stream",
     "text": [
      "/Users/luoyaohuan/anaconda3/lib/python3.6/site-packages/ipykernel_launcher.py:2: FutureWarning: split() requires a non-empty pattern match.\n",
      "  \n"
     ]
    },
    {
     "data": {
      "text/plain": [
       "['this',\n",
       " 'book',\n",
       " 'is',\n",
       " 'the',\n",
       " 'best',\n",
       " 'book',\n",
       " 'on',\n",
       " 'python',\n",
       " 'or',\n",
       " 'm',\n",
       " 'l',\n",
       " 'i',\n",
       " 'have',\n",
       " 'ever',\n",
       " 'laid',\n",
       " 'eyes',\n",
       " 'upon']"
      ]
     },
     "execution_count": 22,
     "metadata": {},
     "output_type": "execute_result"
    }
   ],
   "source": [
    "regEx = re.compile('\\\\W*')\n",
    "listOfTokens = regEx.split(mySent)\n",
    "listOfTokens\n",
    "[tok.lower() for tok in listOfTokens if len(tok) > 0]"
   ]
  },
  {
   "cell_type": "code",
   "execution_count": 23,
   "metadata": {},
   "outputs": [
    {
     "name": "stderr",
     "output_type": "stream",
     "text": [
      "/Users/luoyaohuan/anaconda3/lib/python3.6/site-packages/ipykernel_launcher.py:2: FutureWarning: split() requires a non-empty pattern match.\n",
      "  \n"
     ]
    }
   ],
   "source": [
    "emailText = open('email/ham/'+ str(6) +'.txt', 'rb').read()\n",
    "listOfTokens = regEx.split(str(emailText))"
   ]
  },
  {
   "cell_type": "markdown",
   "metadata": {},
   "source": [
    "带侮辱性词语垃圾邮件分类示例"
   ]
  },
  {
   "cell_type": "code",
   "execution_count": 24,
   "metadata": {},
   "outputs": [],
   "source": [
    "# 文件解析及完整的垃圾邮件测试函数\n",
    "def textParse(bigString):    # 接收一个大写字符串并将其解析为字符串列表\n",
    "    regEx = re.compile('\\\\W*')\n",
    "    listOfTokens = regEx.split(str(bigString))\n",
    "    return [tok.lower() for tok in listOfTokens if len(tok) > 2]\n",
    "\n",
    "def spamTest():    # 对贝叶斯垃圾邮件分类器进行自动化处理\n",
    "    docList = []\n",
    "    classList = []\n",
    "    fullText = []\n",
    "    for i in range(1, 26):   # 访问25个txt文件\n",
    "        wordList = textParse(open('email/spam/'+ str(i) +'.txt', 'rb').read())    # 读取每个垃圾邮件，并将字符串转换成字符串列表\n",
    "        docList.append(wordList)\n",
    "        fullText.extend(wordList)\n",
    "        classList.append(1)    # 标记垃圾邮件，1表示垃圾文件\n",
    "        wordList = textParse(open('email/ham/'+ str(i) +'.txt', 'rb').read())\n",
    "        docList.append(wordList)\n",
    "        fullText.extend(wordList)\n",
    "        classList.append(0)    # 标记非垃圾邮件，0表示非垃圾邮件\n",
    "    vocabList = createVocabList(docList)    # 创建词汇表，并去重\n",
    "    trainingSet = list(range(50))\n",
    "    testSet = []    # 创建存车训练集的索引值的列表和测试集的索引值的列表\n",
    "    for i in range(10):   # 从50个邮件中，随机抽选40封电子邮件作为训练集，10封作为测试集\n",
    "        randIndex = int(random.uniform(0, len(trainingSet)))    # 随机选取索引值\n",
    "        testSet.append(trainingSet[randIndex])    # 添加测试集的索引值\n",
    "        del(trainingSet[randIndex])    # 在训练集列表中删除添加到测试集的索引值\n",
    "    trainMat = []\n",
    "    trainClasses = []    # 创建训练集矩阵和训练集类别标签系向量\n",
    "    for docIndex in trainingSet:    # 遍历训练集\n",
    "        trainMat.append(setOfWords2Vec(vocabList, docList[docIndex]))    # 将生成的词集模型添加到训练矩阵中\n",
    "        trainClasses.append(classList[docIndex])    # 将类别添加到训练集类别标签系向量中\n",
    "    p0V, p1V, pSpam = trainNB0(array(trainMat), array(trainClasses))    # 训练朴素贝叶斯模型\n",
    "    errorCpunt = 0    # 错误分类计数\n",
    "    for docIndex in testSet:    # 遍历测试集\n",
    "        wordVector = setOfWords2Vec(vocabList, docList[docIndex])    # 测试集的词集模型\n",
    "        if classifyNb(array(wordVector), p0V, p1V, pSpam) != classList[docIndex]:    # 如果分类错误的情况发生\n",
    "            errorCpunt += 1    # 错误计数加1\n",
    "    print('the error rate is: ' + str(float(errorCpunt)/len(testSet)))"
   ]
  },
  {
   "cell_type": "code",
   "execution_count": 38,
   "metadata": {},
   "outputs": [
    {
     "name": "stdout",
     "output_type": "stream",
     "text": [
      "the error rate is: 0.1\n"
     ]
    },
    {
     "name": "stderr",
     "output_type": "stream",
     "text": [
      "/Users/luoyaohuan/anaconda3/lib/python3.6/site-packages/ipykernel_launcher.py:4: FutureWarning: split() requires a non-empty pattern match.\n",
      "  after removing the cwd from sys.path.\n"
     ]
    }
   ],
   "source": [
    "spamTest()"
   ]
  },
  {
   "cell_type": "code",
   "execution_count": null,
   "metadata": {},
   "outputs": [],
   "source": []
  },
  {
   "cell_type": "code",
   "execution_count": null,
   "metadata": {},
   "outputs": [],
   "source": []
  },
  {
   "cell_type": "code",
   "execution_count": null,
   "metadata": {},
   "outputs": [],
   "source": []
  },
  {
   "cell_type": "code",
   "execution_count": null,
   "metadata": {},
   "outputs": [],
   "source": []
  },
  {
   "cell_type": "code",
   "execution_count": null,
   "metadata": {},
   "outputs": [],
   "source": []
  },
  {
   "cell_type": "code",
   "execution_count": null,
   "metadata": {},
   "outputs": [],
   "source": []
  },
  {
   "cell_type": "code",
   "execution_count": null,
   "metadata": {},
   "outputs": [],
   "source": []
  },
  {
   "cell_type": "code",
   "execution_count": null,
   "metadata": {},
   "outputs": [],
   "source": []
  },
  {
   "cell_type": "code",
   "execution_count": null,
   "metadata": {},
   "outputs": [],
   "source": []
  },
  {
   "cell_type": "code",
   "execution_count": 84,
   "metadata": {},
   "outputs": [],
   "source": [
    "ny = feedparser.parse('http://newyork.craigslist.org/stp/index.rss')    # 需要VPN"
   ]
  },
  {
   "cell_type": "code",
   "execution_count": null,
   "metadata": {},
   "outputs": [],
   "source": []
  }
 ],
 "metadata": {
  "kernelspec": {
   "display_name": "Python 3",
   "language": "python",
   "name": "python3"
  },
  "language_info": {
   "codemirror_mode": {
    "name": "ipython",
    "version": 3
   },
   "file_extension": ".py",
   "mimetype": "text/x-python",
   "name": "python",
   "nbconvert_exporter": "python",
   "pygments_lexer": "ipython3",
   "version": "3.6.5"
  }
 },
 "nbformat": 4,
 "nbformat_minor": 2
}
